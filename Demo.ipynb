{
 "cells": [
  {
   "cell_type": "code",
   "execution_count": 1,
   "metadata": {},
   "outputs": [
    {
     "ename": "ModuleNotFoundError",
     "evalue": "No module named 'bs4'",
     "output_type": "error",
     "traceback": [
      "\u001b[1;31m---------------------------------------------------------------------------\u001b[0m",
      "\u001b[1;31mModuleNotFoundError\u001b[0m                       Traceback (most recent call last)",
      "\u001b[1;32m<ipython-input-1-a7274abc53f3>\u001b[0m in \u001b[0;36m<module>\u001b[1;34m\u001b[0m\n\u001b[0;32m      1\u001b[0m \u001b[1;32mimport\u001b[0m \u001b[0mos\u001b[0m\u001b[1;33m\u001b[0m\u001b[1;33m\u001b[0m\u001b[0m\n\u001b[1;32m----> 2\u001b[1;33m \u001b[1;32mimport\u001b[0m \u001b[0mbs4\u001b[0m\u001b[1;33m\u001b[0m\u001b[1;33m\u001b[0m\u001b[0m\n\u001b[0m\u001b[0;32m      3\u001b[0m \u001b[1;32mimport\u001b[0m \u001b[0mwget\u001b[0m\u001b[1;33m\u001b[0m\u001b[1;33m\u001b[0m\u001b[0m\n\u001b[0;32m      4\u001b[0m \u001b[1;32mimport\u001b[0m \u001b[0mrequests\u001b[0m\u001b[1;33m\u001b[0m\u001b[1;33m\u001b[0m\u001b[0m\n\u001b[0;32m      5\u001b[0m \u001b[1;32mimport\u001b[0m \u001b[0mpandas\u001b[0m \u001b[1;32mas\u001b[0m \u001b[0mpd\u001b[0m\u001b[1;33m\u001b[0m\u001b[1;33m\u001b[0m\u001b[0m\n",
      "\u001b[1;31mModuleNotFoundError\u001b[0m: No module named 'bs4'"
     ]
    }
   ],
   "source": [
    "import os\n",
    "import bs4\n",
    "import wget\n",
    "import requests\n",
    "import pandas as pd\n",
    "import matplotlib.pyplot as plt\n",
    "\n",
    "from pdfminer.high_level import extract_text\n",
    "\n",
    "PATH_TO_ALL_REPORTS = \"./Reports\"\n",
    "PATH_TO_PDF_REPORTS = PATH_TO_ALL_REPORTS + \"/pdf\"\n",
    "PATH_TO_TEXT_REPORTS = PATH_TO_ALL_REPORTS + \"/plain_text\"\n",
    "\n",
    "if os.path.exists(PATH_TO_ALL_REPORTS) == False: os.mkdir(PATH_TO_ALL_REPORTS)\n",
    "if os.path.exists(PATH_TO_PDF_REPORTS) == False: os.mkdir(PATH_TO_PDF_REPORTS)\n",
    "\n",
    "PDFToConvert = []\n",
    "DownloadURL = 'https://www.education.ie/en/Publications/Inspection-Reports-Publications/Whole-School-Evaluation-Reports-List/12936D_WSEMLLP_13085_20200203.pdf'\n",
    "FileName = 'Reports/pdf/JupyterNotebookVisualisation.pdf'\n",
    "PDFToConvert.append('Reports/pdf/JupyterNotebookVisualisation')\n",
    "print('\\tReport 12936D downloaded')\n",
    "wget.download(DownloadURL, FileName)"
   ]
  },
  {
   "cell_type": "code",
   "execution_count": 2,
   "metadata": {},
   "outputs": [
    {
     "name": "stdout",
     "output_type": "stream",
     "text": [
      "['C:\\\\Users\\\\Skerilyo\\\\UNESCO-Hacking-ED-Planning', 'c:\\\\program files (x86)\\\\python38-32\\\\python38.zip', 'c:\\\\program files (x86)\\\\python38-32\\\\DLLs', 'c:\\\\program files (x86)\\\\python38-32\\\\lib', 'c:\\\\program files (x86)\\\\python38-32', '', 'C:\\\\Users\\\\Skerilyo\\\\AppData\\\\Roaming\\\\Python\\\\Python38\\\\site-packages', 'C:\\\\Users\\\\Skerilyo\\\\AppData\\\\Roaming\\\\Python\\\\Python38\\\\site-packages\\\\win32', 'C:\\\\Users\\\\Skerilyo\\\\AppData\\\\Roaming\\\\Python\\\\Python38\\\\site-packages\\\\win32\\\\lib', 'C:\\\\Users\\\\Skerilyo\\\\AppData\\\\Roaming\\\\Python\\\\Python38\\\\site-packages\\\\Pythonwin', 'c:\\\\program files (x86)\\\\python38-32\\\\lib\\\\site-packages', 'C:\\\\Users\\\\Skerilyo\\\\AppData\\\\Roaming\\\\Python\\\\Python38\\\\site-packages\\\\IPython\\\\extensions', 'C:\\\\Users\\\\Skerilyo\\\\.ipython']\n"
     ]
    }
   ],
   "source": []
  },
  {
   "cell_type": "code",
   "execution_count": null,
   "metadata": {},
   "outputs": [],
   "source": []
  },
  {
   "cell_type": "code",
   "execution_count": null,
   "metadata": {},
   "outputs": [],
   "source": []
  }
 ],
 "metadata": {
  "kernelspec": {
   "display_name": "Python 3.8.2 32-bit ('venv': venv)",
   "language": "python",
   "name": "python38232bitvenvvenv32fbfaf52b674be4b0d84cc0146ee477"
  },
  "language_info": {
   "codemirror_mode": {
    "name": "ipython",
    "version": 3
   },
   "file_extension": ".py",
   "mimetype": "text/x-python",
   "name": "python",
   "nbconvert_exporter": "python",
   "pygments_lexer": "ipython3",
   "version": "3.8.2"
  }
 },
 "nbformat": 4,
 "nbformat_minor": 4
}
