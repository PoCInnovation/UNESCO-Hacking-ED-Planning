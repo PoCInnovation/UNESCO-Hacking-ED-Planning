{
 "cells": [
  {
   "cell_type": "markdown",
   "metadata": {},
   "source": [
    "# A deep dive into our NLP solution\n",
    "\n",
    "In this notebook we will see how does our model react in concrete situation, for that we will use only one PDF and some raw text.\\\n",
    "Feel free to play with our model ;)\n",
    "\n",
    "First of all, let's import our packages:\n",
    "- `os`: Various interfaces for the operating system\n",
    "- `sys`: System specific parameters and fonctions\n",
    "- `metaData`: Fetching informations from raw text and PDF\n",
    "- `dataExtraction`: Work with pdf and raw data extraction\n",
    "- `TrQuestions` : Work with transformer for QnA\n",
    "- `TrSentymentAnalysis` : Work with transformer for Sentyment Analysis\n",
    "- `Numpy` : Fundamental package for scientific computing with Python\n",
    "- `pyplot` : Collection of functions that make matplotlib work like MATLAB\n",
    "- `transformers` : Hugging face's transformer library"
   ]
  },
  {
   "cell_type": "code",
   "execution_count": 8,
   "metadata": {},
   "outputs": [],
   "source": [
    "import os\n",
    "import sys\n",
    "\n",
    "import metaData\n",
    "import dataExtraction\n",
    "import TrQuestions\n",
    "import TrSentymentAnalysis\n",
    "import genMiniReport\n",
    "\n",
    "from wand.image import Image as WImage\n",
    "\n",
    "from transformers import pipeline"
   ]
  },
  {
   "cell_type": "markdown",
   "metadata": {},
   "source": [
    "**Now let's load and parse our report!**\n",
    "- `dataExtraction.PDFToText(path)`: convert pdf to raw text\n",
    "- `metaData.getInfo(data, from_text=bool)`: parse raw text to extract usefull informations"
   ]
  },
  {
   "cell_type": "code",
   "execution_count": 4,
   "metadata": {},
   "outputs": [],
   "source": [
    "report = dataExtraction.PDFToText(\"exemple_report.pdf\")\n",
    "reportInfos = metaData.getInfo(report, from_text=True)"
   ]
  },
  {
   "cell_type": "markdown",
   "metadata": {},
   "source": []
  },
  {
   "cell_type": "code",
   "execution_count": 47,
   "metadata": {
    "scrolled": false
   },
   "outputs": [
    {
     "name": "stdout",
     "output_type": "stream",
     "text": [
      "The quality of leadership and management is very good; through the work of a highly effective senior management team, distributed leadership, and a high level of teacher collaboration and engagement in improvement planning, the school is working to continuously improve.  The quality of governance is good and the board of management provides strong and proactive oversight; while school leaders are cognisant of the views of students and parents, there is scope to develop the consultative process.  The quality of care for students is very good; school leaders work hard to maintain a supportive and inclusive environment and the the special educational needs (SEN) allocation is fully utilised and well managed.  The school provides a positive, encouraging and orderly learning environment; there is scope to consolidate practices in a few aspects of student life, including Relationships and Sexuality Education (RSE) and homework, and to further develop the wellbeing programme and the system for monitoring learning.  The quality of teaching and learning is good overall; most lessons observed were very good or good; a number of teaching and learning initiatives are impacting positively on learner outcomes and experiences, as observed in the effective and highly effective lessons.  There has been good progress in implementing recommendations from previous inspections, while work is in progress on the two more recent subject inspections School self-evaluation (SSE) and school improvement planning have a distinct improvement focus, but their impact could be communicated better; the school’s capacity for improvement is very goodRecommendations  In leading overall school development and learning, middle and senior leaders should extend the consultative process and broaden the range of means of engaging the views of both parents and students. \f",
      " Senior management should take steps to consolidate practices in a few aspects of student life, including RSE and homework, and to further develop the wellbeing programme and the system for monitoring learning.  In leading the range of school improvement practices and initiatives, middle and senior leaders should apply the SSE process, with more emphasis on the critical use of evidence, monitoring of impact and communication of progress.  In extending the whole-school improvements being achieved in learners’ experiences and attainment, teachers should further embed teaching and formative assessment approaches which provide for high expectations, challenge and differentiated learning into lessonsDETAILED FINDINGS AND RECOMMENDATIONS  \n"
     ]
    }
   ],
   "source": [
    "print(reportInfos[7])"
   ]
  },
  {
   "cell_type": "markdown",
   "metadata": {},
   "source": []
  },
  {
   "cell_type": "code",
   "execution_count": 40,
   "metadata": {},
   "outputs": [
    {
     "data": {
      "text/plain": [
       "[{'summary_text': ' The quality of leadership and management is very good, according to the report . The school provides a positive, encouraging and orderly learning environment . There is scope to consolidate practices in a few aspects of student life, including Relationships and Sexuality Education (RSE) and homework .'}]"
      ]
     },
     "execution_count": 40,
     "metadata": {},
     "output_type": "execute_result"
    }
   ],
   "source": [
    "nlp_sum = pipeline('summarization')\n",
    "nlp_sum(reportInfos[7])"
   ]
  },
  {
   "cell_type": "markdown",
   "metadata": {},
   "source": []
  },
  {
   "cell_type": "code",
   "execution_count": 9,
   "metadata": {},
   "outputs": [
    {
     "name": "stderr",
     "output_type": "stream",
     "text": [
      "Your min_length is set to 56, but you input_length is only 4. You might consider decreasing min_length manually, e.g. summarizer('...', min_length=10)\n",
      "Your max_length is set to 142, but you input_length is only 4. You might consider decreasing max_length manually, e.g. summarizer('...', max_length=50)\n"
     ]
    },
    {
     "name": "stdout",
     "output_type": "stream",
     "text": [
      " NaN. NaN is an acronym for National Suicide Prevention Prevention . NaN was founded in 1987 . It was the first of its kind in the United States and Canada . It is the first time the U.S. government has been involved in a suicide-prevention effort .\n"
     ]
    },
    {
     "ename": "IndexError",
     "evalue": "list index out of range",
     "output_type": "error",
     "traceback": [
      "\u001b[0;31m---------------------------------------------------------------------------\u001b[0m",
      "\u001b[0;31mIndexError\u001b[0m                                Traceback (most recent call last)",
      "\u001b[0;32m<ipython-input-9-369d2ee7f13a>\u001b[0m in \u001b[0;36m<module>\u001b[0;34m\u001b[0m\n\u001b[0;32m----> 1\u001b[0;31m \u001b[0mgenMiniReport\u001b[0m\u001b[0;34m.\u001b[0m\u001b[0mgetMiniReport\u001b[0m\u001b[0;34m(\u001b[0m\u001b[0mreportInfos\u001b[0m\u001b[0;34m)\u001b[0m\u001b[0;34m\u001b[0m\u001b[0;34m\u001b[0m\u001b[0m\n\u001b[0m\u001b[1;32m      2\u001b[0m \u001b[0;34m\u001b[0m\u001b[0m\n\u001b[1;32m      3\u001b[0m \u001b[0;32mfrom\u001b[0m \u001b[0mwand\u001b[0m\u001b[0;34m.\u001b[0m\u001b[0mimage\u001b[0m \u001b[0;32mimport\u001b[0m \u001b[0mImage\u001b[0m \u001b[0;32mas\u001b[0m \u001b[0mWImage\u001b[0m\u001b[0;34m\u001b[0m\u001b[0;34m\u001b[0m\u001b[0m\n\u001b[1;32m      4\u001b[0m \u001b[0mrender\u001b[0m \u001b[0;34m=\u001b[0m \u001b[0mWImage\u001b[0m\u001b[0;34m(\u001b[0m\u001b[0mfilename\u001b[0m\u001b[0;34m=\u001b[0m\u001b[0;34m'test.pdf'\u001b[0m\u001b[0;34m)\u001b[0m\u001b[0;34m\u001b[0m\u001b[0;34m\u001b[0m\u001b[0m\n\u001b[1;32m      5\u001b[0m \u001b[0mrender\u001b[0m\u001b[0;34m\u001b[0m\u001b[0;34m\u001b[0m\u001b[0m\n",
      "\u001b[0;32m~/Desktop/new2/exemples/genMiniReport.py\u001b[0m in \u001b[0;36mgetMiniReport\u001b[0;34m(infos)\u001b[0m\n\u001b[1;32m     64\u001b[0m     \u001b[0mpdf\u001b[0m\u001b[0;34m.\u001b[0m\u001b[0maddText\u001b[0m\u001b[0;34m(\u001b[0m\u001b[0;36m0\u001b[0m\u001b[0;34m,\u001b[0m \u001b[0;36m100\u001b[0m\u001b[0;34m,\u001b[0m \u001b[0;36m0\u001b[0m\u001b[0;34m,\u001b[0m \u001b[0;36m10\u001b[0m\u001b[0;34m,\u001b[0m \u001b[0mresult\u001b[0m\u001b[0;34m[\u001b[0m\u001b[0;36m4\u001b[0m\u001b[0;34m]\u001b[0m\u001b[0;34m[\u001b[0m\u001b[0;36m0\u001b[0m\u001b[0;34m]\u001b[0m\u001b[0;34m[\u001b[0m\u001b[0;34m'summary_text'\u001b[0m\u001b[0;34m]\u001b[0m\u001b[0;34m,\u001b[0m \u001b[0;34m'L'\u001b[0m\u001b[0;34m)\u001b[0m\u001b[0;34m\u001b[0m\u001b[0;34m\u001b[0m\u001b[0m\n\u001b[1;32m     65\u001b[0m \u001b[0;34m\u001b[0m\u001b[0m\n\u001b[0;32m---> 66\u001b[0;31m     \u001b[0mpdf\u001b[0m\u001b[0;34m.\u001b[0m\u001b[0maddText\u001b[0m\u001b[0;34m(\u001b[0m\u001b[0;36m0\u001b[0m\u001b[0;34m,\u001b[0m \u001b[0;36m120\u001b[0m\u001b[0;34m,\u001b[0m \u001b[0;36m0\u001b[0m\u001b[0;34m,\u001b[0m \u001b[0;36m10\u001b[0m\u001b[0;34m,\u001b[0m \u001b[0;34m\"II - Quality Of Teaching\"\u001b[0m\u001b[0;34m,\u001b[0m \u001b[0;34m'L'\u001b[0m\u001b[0;34m)\u001b[0m\u001b[0;34m\u001b[0m\u001b[0;34m\u001b[0m\u001b[0m\n\u001b[0m\u001b[1;32m     67\u001b[0m     \u001b[0mpdf\u001b[0m\u001b[0;34m.\u001b[0m\u001b[0maddText\u001b[0m\u001b[0;34m(\u001b[0m\u001b[0;36m0\u001b[0m\u001b[0;34m,\u001b[0m \u001b[0;36m110\u001b[0m\u001b[0;34m,\u001b[0m \u001b[0;36m0\u001b[0m\u001b[0;34m,\u001b[0m \u001b[0;36m10\u001b[0m\u001b[0;34m,\u001b[0m \u001b[0mresult\u001b[0m\u001b[0;34m[\u001b[0m\u001b[0;36m5\u001b[0m\u001b[0;34m]\u001b[0m\u001b[0;34m[\u001b[0m\u001b[0;36m0\u001b[0m\u001b[0;34m]\u001b[0m\u001b[0;34m[\u001b[0m\u001b[0;34m'summary_text'\u001b[0m\u001b[0;34m]\u001b[0m\u001b[0;34m,\u001b[0m \u001b[0;34m'L'\u001b[0m\u001b[0;34m)\u001b[0m\u001b[0;34m\u001b[0m\u001b[0;34m\u001b[0m\u001b[0m\n\u001b[1;32m     68\u001b[0m \u001b[0;34m\u001b[0m\u001b[0m\n",
      "\u001b[0;31mIndexError\u001b[0m: list index out of range"
     ]
    }
   ],
   "source": [
    "genMiniReport.getMiniReport(reportInfos)\n",
    "\n",
    "from wand.image import Image as WImage\n",
    "render = WImage(filename='test.pdf')\n",
    "render"
   ]
  },
  {
   "cell_type": "code",
   "execution_count": null,
   "metadata": {},
   "outputs": [],
   "source": []
  },
  {
   "cell_type": "code",
   "execution_count": null,
   "metadata": {},
   "outputs": [],
   "source": []
  }
 ],
 "metadata": {
  "kernelspec": {
   "display_name": "Python 3",
   "language": "python",
   "name": "python3"
  },
  "language_info": {
   "codemirror_mode": {
    "name": "ipython",
    "version": 3
   },
   "file_extension": ".py",
   "mimetype": "text/x-python",
   "name": "python",
   "nbconvert_exporter": "python",
   "pygments_lexer": "ipython3",
   "version": "3.8.6"
  }
 },
 "nbformat": 4,
 "nbformat_minor": 4
}
