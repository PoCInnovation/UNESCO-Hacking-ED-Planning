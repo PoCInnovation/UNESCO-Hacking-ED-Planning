{
 "cells": [
  {
   "cell_type": "markdown",
   "metadata": {},
   "source": [
    "# A deep dive into our NLP solution\n",
    "\n",
    "In this notebook we will see how does our model react in concrete situation, for that we will use only one PDF and some raw text.\\\n",
    "Feel free to play with our model ;)\n",
    "\n",
    "First of all, let's import our packages:\n",
    "- `os`: Various interfaces for the operating system\n",
    "- `sys`: System specific parameters and fonctions\n",
    "- `metaData`: Fetching informations from raw text and PDF\n",
    "- `dataExtraction`: Work with pdf and raw data extraction\n",
    "- `TrQuestions` : Work with transformer for QnA\n",
    "- `TrSentymentAnalysis` : Work with transformer for Sentyment Analysis\n",
    "- `Numpy` : Fundamental package for scientific computing with Python\n",
    "- `pyplot` : Collection of functions that make matplotlib work like MATLAB"
   ]
  },
  {
   "cell_type": "code",
   "execution_count": 1,
   "metadata": {},
   "outputs": [],
   "source": [
    "import os\n",
    "import sys\n",
    "\n",
    "import metaData\n",
    "import dataExtraction\n",
    "import TrQuestions\n",
    "import TrSentymentAnalysis\n",
    "\n",
    "import numpy as np\n",
    "import matplotlib.pyplot as plt"
   ]
  },
  {
   "cell_type": "markdown",
   "metadata": {},
   "source": [
    "**Now let's load and parse our report!**\n",
    "- `dataExtraction.PDFToText(path)`: convert pdf to raw text\n",
    "- `metaData.getInfo(data, from_text=bool)`: parse raw text to extract usefull informations"
   ]
  },
  {
   "cell_type": "code",
   "execution_count": 2,
   "metadata": {},
   "outputs": [],
   "source": [
    "report = dataExtraction.PDFToText(\"exemple_report.pdf\")\n",
    "reportInfos = metaData.getInfo(report, from_text=True)"
   ]
  },
  {
   "cell_type": "markdown",
   "metadata": {},
   "source": [
    "Let's play with report's data !\\\n",
    "First we will see what informations did we fetch for the part *Pupils' achievements*:"
   ]
  },
  {
   "cell_type": "code",
   "execution_count": 3,
   "metadata": {},
   "outputs": [
    {
     "name": "stdout",
     "output_type": "stream",
     "text": [
      "The learning achievements of pupilsThe overall learning achievements of the pupils are very good. They are in receipt of \n",
      "a  broad  and  balanced  curriculum  and  are  highly  motivatedinterested  and \n",
      "enthusiasticReading levels in English are very good and literacy overall is successfully integrated \n",
      "across  the  curriculumIn  order  to  match  the  pupilsvery  good  levels  in  readinga \n",
      "more cohesive whole-school approach to children’s writing across a range of genres \n",
      "is recommended. Some very good examples of pupil competence and confidence in \n",
      "oral  language  were  also  observed  during  the  evaluationPupils  at  all  levels \n",
      "demonstrate very good understanding of discrete mathematical conceptsTá tusicint agus stór focail maith ag na páistí sa Ghaeilge agus tá scileanna reasúnta \n",
      "maith á bhaint amach acu sa Ghaeilge labhartha. Tá réimse maith dánta, rannta agus \n",
      "amhráin ar eolas acu. Chun muinín na ndaltaí agus a gcumas cainte a fhorbairt, ba \n",
      "chóir  clár  céimniúil  agus  ábhartha  a  chur  i  bhfeidhm  go  córasach  tríd  an  scoilThe \n",
      "pupils  have  a  good  Irish  vocabulary  and  demonstrate  good  understandingTheir \n",
      "language  skills  are  reasonably  good  and  they  know  a  good  range  of  poems  and \n",
      "songs  in  IrishTo  further  develop  the  pupilsconfidence  and  oral  skills  in  Irishan \n",
      "incremental and relevant programme in Irish should be taught through the schoolSome  very  good  skill-based  learning  was  demonstrated  by  the  pupils  in  Social \n",
      "Environmental and Scientific Education and in Physical Education and they have had \n",
      "some  very  good  creative  experiences  in  Music  and  in  the  Visual  ArtsPupils  in  the \n",
      "junior classes are given some opportunities to learn through play\n",
      " \n",
      "\n",
      "(cid:1\n"
     ]
    }
   ],
   "source": [
    "print(reportInfos[4])"
   ]
  },
  {
   "cell_type": "markdown",
   "metadata": {},
   "source": [
    "We can see our data fetching worked pretty well, let's play with it by asking some questions.\\\n",
    "What about \"What is the quality of pupils\", pretty straight forward right?\n",
    "\n",
    "- `pipeline('question-answering')`: load QnA Transformer model\n",
    "- `nlp_qa(context=text, question=text)`: ask to the model the sentiment of the sentence"
   ]
  },
  {
   "cell_type": "code",
   "execution_count": 4,
   "metadata": {},
   "outputs": [
    {
     "data": {
      "text/plain": [
       "{'score': 0.6283722519874573, 'start': 87, 'end': 96, 'answer': 'very good'}"
      ]
     },
     "execution_count": 4,
     "metadata": {},
     "output_type": "execute_result"
    }
   ],
   "source": [
    "from transformers import pipeline\n",
    "nlp_qa = pipeline('question-answering')\n",
    "nlp_qa(context=reportInfos[4], question='What is the quality of pupils')"
   ]
  },
  {
   "cell_type": "markdown",
   "metadata": {},
   "source": [
    "Impressive ! Our model succed to answer right ou question, but is a bit to specific.\\\n",
    "How does it handle a verry vague question: \"Who ?\""
   ]
  },
  {
   "cell_type": "code",
   "execution_count": 5,
   "metadata": {},
   "outputs": [
    {
     "data": {
      "text/plain": [
       "{'score': 0.6767464280128479, 'start': 1063, 'end': 1069, 'answer': 'pupils'}"
      ]
     },
     "execution_count": 5,
     "metadata": {},
     "output_type": "execute_result"
    }
   ],
   "source": [
    "nlp_qa(context=reportInfos[4], question='Who ?')"
   ]
  },
  {
   "cell_type": "markdown",
   "metadata": {},
   "source": [
    "Well, it succed once again !\\\n",
    "Let's complexify it one more time by testing our own custom text.\n",
    "\n",
    "**PS: Feel free to test with your own text/questions**"
   ]
  },
  {
   "cell_type": "code",
   "execution_count": 6,
   "metadata": {},
   "outputs": [],
   "source": [
    "text = \"\"\"\n",
    "PoC is a Student Innovation Center, currently based at EPITECH, which aims to promote Innovation and Open Source through its projects and events.\n",
    "We work in innovation through three axes: \n",
    "- Our internal projects: Funded by PoC and carried out by our members, in partnership with foundations and research actors.\n",
    "- Our services: For innovative companies in all sectors\n",
    "- Our events: Workshops, talks or hackathons on the theme of technological innovation\n",
    "\"\"\""
   ]
  },
  {
   "cell_type": "code",
   "execution_count": 7,
   "metadata": {},
   "outputs": [
    {
     "name": "stdout",
     "output_type": "stream",
     "text": [
      "{'score': 0.6073386669158936, 'start': 10, 'end': 35, 'answer': 'Student Innovation Center'}\n",
      "{'score': 0.4512992203235626, 'start': 76, 'end': 113, 'answer': 'to promote Innovation and Open Source'}\n"
     ]
    }
   ],
   "source": [
    "print(nlp_qa(context=text, question='What is PoC ?'))\n",
    "print(nlp_qa(context=text, question='What is PoC main goal ?'))"
   ]
  },
  {
   "cell_type": "markdown",
   "metadata": {},
   "source": [
    "Ok, now we know ouu model is confident and pretty efficient with QnA, but what about Sentiments analysis ?\\\n",
    "Let's check with our report once again ;)\n",
    "- `pipeline('sentiment-analysis')`: load sentiment analysis Transformer model\n",
    "- `nlp_sentence_classif(text)`: do sentiment analysis on provided text"
   ]
  },
  {
   "cell_type": "code",
   "execution_count": 8,
   "metadata": {},
   "outputs": [
    {
     "data": {
      "text/plain": [
       "[{'label': 'POSITIVE', 'score': 0.9994074702262878}]"
      ]
     },
     "execution_count": 8,
     "metadata": {},
     "output_type": "execute_result"
    }
   ],
   "source": [
    "nlp_sentence_classif = pipeline('sentiment-analysis')\n",
    "nlp_sentence_classif(reportInfos[4])"
   ]
  },
  {
   "cell_type": "markdown",
   "metadata": {},
   "source": [
    "For the last test we will use a custom text and once again feel free to try with your own text."
   ]
  },
  {
   "cell_type": "code",
   "execution_count": 9,
   "metadata": {},
   "outputs": [
    {
     "data": {
      "text/plain": [
       "[{'label': 'POSITIVE', 'score': 0.9994363188743591}]"
      ]
     },
     "execution_count": 9,
     "metadata": {},
     "output_type": "execute_result"
    }
   ],
   "source": [
    "text = \"I'm soo glad to be here !\"\n",
    "TrSentymentAnalysis.getSentiment(text)"
   ]
  }
 ],
 "metadata": {
  "kernelspec": {
   "display_name": "Python 3",
   "language": "python",
   "name": "python3"
  },
  "language_info": {
   "codemirror_mode": {
    "name": "ipython",
    "version": 3
   },
   "file_extension": ".py",
   "mimetype": "text/x-python",
   "name": "python",
   "nbconvert_exporter": "python",
   "pygments_lexer": "ipython3",
   "version": "3.8.3"
  }
 },
 "nbformat": 4,
 "nbformat_minor": 4
}
