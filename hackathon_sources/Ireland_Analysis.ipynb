{
 "cells": [
  {
   "cell_type": "markdown",
   "metadata": {
    "kernel": "SoS"
   },
   "source": [
    "# School inspection reports' analysis\n",
    "\n",
    "This code, which uses SoS as the background, is written in Python (for the data extraction and manipulation) and R (for the Topic analysis). The respective sections can be extracted and used separetely, or jointly by following the installation guidelines presented in the link below.\n",
    "\n",
    "https://vatlab.github.io/sos-docs/running.html#Local-installation\n",
    "\n",
    "The user should run the following lines from the Command Prompt\n",
    "\n",
    "- pip install sos-notebook\n",
    "- pip install sos-papermill\n",
    "- pip install sos-r\n",
    "- python -m sos_notebook.install\n",
    "- jupyter kernelspec list\n",
    "\n",
    "and choose SoS as the kernel for a new notebook. Please refer to Notebook Interface of the SoS documentation for details (https://vatlab.github.io/sos-docs/doc/documentation/Notebook_Interface.html)\n",
    "\n",
    "Data from Ireland taken from https://data.gov.ie/dataset/primary-schools and https://www.education.ie/en/Publications/Inspection-Reports-Publications/Whole-School-Evaluation-Reports-List\n"
   ]
  },
  {
   "cell_type": "code",
   "execution_count": 1,
   "metadata": {
    "kernel": "Python 3"
   },
   "outputs": [],
   "source": [
    "#!pip install rpy2\n",
    "#!pip install wget\n",
    "#!pip install pdfminer.six\n",
    "#!pip install geopandas\n",
    "#!pip install geopy\n",
    "#!pip install bs4\n",
    "#!pip install pandas\n",
    "\n",
    "# We import the necessary packages\n",
    "import sys, os, csv, requests, re, bs4, datetime, time, threading, wget, pdfminer, geopandas, geopy\n",
    "import pandas as pd\n",
    "import matplotlib.pyplot as plt\n",
    "from pdfminer.high_level import extract_text\n",
    "from geopy.geocoders import Nominatim\n",
    "import numpy as np"
   ]
  },
  {
   "cell_type": "markdown",
   "metadata": {
    "kernel": "SoS"
   },
   "source": [
    "Select the appropriate working directory"
   ]
  },
  {
   "cell_type": "code",
   "execution_count": 2,
   "metadata": {
    "kernel": "Python 3"
   },
   "outputs": [
    {
     "name": "stdout",
     "output_type": "stream",
     "text": [
      "Your path is C:\\Users\\g.vargas\\BOX\\IIEP_MyProjects\\MP_01000298\\WorkFiles_Inspection\\Ireland\n"
     ]
    }
   ],
   "source": [
    "os.chdir(\"C:\\\\Users\\g.vargas\\BOX\\IIEP_MyProjects\\MP_01000298\\WorkFiles_Inspection\\Ireland\")  # REMOVE\n",
    "if os.getcwd()!=\"C:\\\\Users\\g.vargas\\BOX\\IIEP_MyProjects\\MP_01000298\\WorkFiles_Inspection\\Ireland\":\n",
    "    print(\"Please insert the WORKING DIRECTORY\")                                                            # We create a loop so that the user establishes the working directory\n",
    "    print(\"Remember to separate the backslash (for Windows) or forward slash (in Mac)\") \n",
    "    while True:                                                                             \n",
    "        NewPath=input()                                                                                     # The user inserts the working directory\n",
    "        if os.path.exists(NewPath)==True:                                                                   # If the program exists, the working directory will be updated\n",
    "            os.chdir(NewPath)                                                               \n",
    "            print(\"Your new path is \" + os.getcwd())                                        \n",
    "            break                                                                                           # If the condition is met, the program keeps running\n",
    "        else:                                                                                               # If the condition is not met, the program requests the user to\n",
    "            print(\"Please check if the path is correctly written\")                                          # insert a new path and the condition is checked again\n",
    "        continue\n",
    "else: \n",
    "    print(\"Your path is \" + os.getcwd())"
   ]
  },
  {
   "cell_type": "markdown",
   "metadata": {
    "kernel": "SoS"
   },
   "source": [
    "## Extracting the tables from the webpage and turning them into a DataFrame\n",
    "\n",
    "Note that his DataFrame will not only work to later download the corresponding reports, but it is a useful Metadata database, which can be then used to make analyses on the different results across time, location, or type of school. "
   ]
  },
  {
   "cell_type": "code",
   "execution_count": 3,
   "metadata": {
    "kernel": "Python 3"
   },
   "outputs": [],
   "source": [
    "WebpageRoot = \"https://www.education.ie/en/Publications/Inspection-Reports-Publications/Whole-School-Evaluation-Reports-List/?pageNumber=\"\n",
    "General_InspectionReports = pd.DataFrame(columns=['Date','School Roll No.','County','School Name','School Level','Inspection Type','Subject','URL'])\n",
    "\n",
    "print(\"How many pages would you like to download?\")\n",
    "NumberPages = input()\n",
    "\n",
    "for x in range(1,NumberPages):\n",
    "    IrelandWebpage = requests.get(WebpageRoot + str(x))\n",
    "    CleanIrelandWebpage = bs4.BeautifulSoup(IrelandWebpage.text, \"lxml\")\n",
    "    InspectionReports = {}\n",
    "    ID = 0\n",
    "    Table = CleanIrelandWebpage.find('table', id=\"IRList\")\n",
    "    for p in Table.find_all('tr'):\n",
    "        if ID == 0:\n",
    "            ID = ID + 1\n",
    "            continue\n",
    "        else:\n",
    "            Date = p('td')[0].string[:2] + '_' + p('td')[0].string[3:5] + '_' + p('td')[0].string[6:]\n",
    "            SchoolRoll = p('td')[1].string\n",
    "            County = p('td')[2].string\n",
    "            SchoolName = p('td')[3].string\n",
    "            SchoolLevel = p('td')[4].string\n",
    "            InspectionType = p('td')[5].string\n",
    "            Subject = p('td')[6].string\n",
    "            URL = p('td')[7]('a')[0].attrs['href'][86:]\n",
    "            InspectionReports[ID] = {'Date': Date, 'School Roll No.': SchoolRoll, 'County': County, 'School Name': SchoolName, 'School Level': SchoolLevel, 'Inspection Type': InspectionType, 'Subject': Subject, 'URL': URL}\n",
    "            ID = ID + 1\n",
    "\n",
    "    df_InspectionReports = pd.DataFrame.from_dict(InspectionReports, orient='index')\n",
    "    General_InspectionReports = pd.concat([General_InspectionReports,df_InspectionReports]) \n"
   ]
  },
  {
   "cell_type": "markdown",
   "metadata": {
    "kernel": "SoS"
   },
   "source": [
    "## Downloading the PDFs"
   ]
  },
  {
   "cell_type": "code",
   "execution_count": 4,
   "metadata": {
    "kernel": "Python 3"
   },
   "outputs": [
    {
     "name": "stdout",
     "output_type": "stream",
     "text": [
      "Report 64220A downloaded\n",
      "100% [............................................................................] 514934 / 514934Report 64370T downloaded\n",
      "100% [............................................................................] 516259 / 516259Report 65190W downloaded\n",
      "100% [............................................................................] 441971 / 441971Report 18660S downloaded\n",
      "100% [............................................................................] 631292 / 631292Report 70640I downloaded\n",
      "100% [............................................................................] 656903 / 656903Report 20313J downloaded\n",
      "100% [............................................................................] 525297 / 525297Report 20435A downloaded\n",
      "100% [............................................................................] 648636 / 648636Report 17893N downloaded\n",
      "100% [............................................................................] 496101 / 496101Report 65100S downloaded\n",
      "100% [............................................................................] 526397 / 526397Report 70081V downloaded\n",
      "100% [............................................................................] 513170 / 513170Report 60321J downloaded\n",
      "100% [............................................................................] 430625 / 430625Report 20220C downloaded\n",
      "100% [............................................................................] 568465 / 568465Report 20073P downloaded\n",
      "100% [............................................................................] 518740 / 518740Report 62990Q downloaded\n",
      "100% [............................................................................] 547928 / 547928Report 01300Q downloaded\n",
      "100% [............................................................................] 656969 / 656969Report 05933G downloaded\n",
      "100% [............................................................................] 640177 / 640177Report 16485Q downloaded\n",
      "100% [............................................................................] 646501 / 646501Report 64760J downloaded\n",
      "100% [............................................................................] 569539 / 569539Report 19985F downloaded\n",
      "100% [............................................................................] 508587 / 508587Report 19507P downloaded\n",
      "100% [............................................................................] 633345 / 633345Report 20422O downloaded\n",
      "100% [............................................................................] 645673 / 645673Report 18062V downloaded\n",
      "100% [............................................................................] 515764 / 515764Report 60030V downloaded\n",
      "100% [............................................................................] 521539 / 521539Report 03917V downloaded\n",
      "100% [............................................................................] 658642 / 658642Report 19435Q downloaded\n",
      "100% [............................................................................] 515970 / 515970Report 12343W downloaded\n",
      "100% [............................................................................] 518612 / 518612Report 17914S downloaded\n",
      "100% [............................................................................] 664487 / 664487Report 19476H downloaded\n",
      "100% [............................................................................] 515750 / 515750Report 19768U downloaded\n",
      "100% [............................................................................] 647412 / 647412Report 19957A downloaded\n",
      "100% [............................................................................] 496158 / 496158Report 60891E downloaded\n",
      "100% [............................................................................] 515314 / 515314Report 64420I downloaded\n",
      "100% [............................................................................] 508597 / 508597Report 91344V downloaded\n",
      "100% [............................................................................] 426258 / 426258Report 17438M downloaded\n",
      "100% [............................................................................] 497481 / 497481Report 64700O downloaded\n",
      "100% [............................................................................] 506356 / 506356Report 60122D downloaded\n",
      "100% [............................................................................] 530466 / 530466Report 81001I downloaded\n",
      "100% [............................................................................] 430182 / 430182Report 62450H downloaded\n",
      "100% [............................................................................] 518587 / 518587Report 18280I downloaded\n",
      "100% [............................................................................] 546631 / 546631Report 70321P downloaded\n",
      "100% [............................................................................] 534440 / 534440"
     ]
    }
   ],
   "source": [
    "PDFToConvert = []\n",
    "for index, row in General_InspectionReports.iterrows():\n",
    "    DownloadURL = 'https://www.education.ie/en/Publications/Inspection-Reports-Publications/Whole-School-Evaluation-Reports-List/' + row['URL']\n",
    "    FileName = 'Reports\\\\' + row['School Roll No.'] + '_' + row['Date'] + '.pdf'\n",
    "    PDFToConvert.append('Reports\\\\' + row['School Roll No.'] + '_' + row['Date'])\n",
    "    print('Report ' + row['School Roll No.'] + ' downloaded')\n",
    "    wget.download(DownloadURL, FileName)"
   ]
  },
  {
   "cell_type": "markdown",
   "metadata": {
    "kernel": "Python 3"
   },
   "source": [
    "## Converting the PDFs to text and cleaning them from unusefull content"
   ]
  },
  {
   "cell_type": "code",
   "execution_count": 5,
   "metadata": {
    "kernel": "Python 3"
   },
   "outputs": [
    {
     "name": "stdout",
     "output_type": "stream",
     "text": [
      "Report 64220A_04_11_2020 properly processed\n",
      "Report 64370T_23_10_2020 properly processed\n",
      "Report 65190W_22_10_2020 properly processed\n",
      "Report 18660S_21_10_2020 properly processed\n",
      "Report 70640I_21_10_2020 properly processed\n",
      "Report 20313J_20_10_2020 properly processed\n",
      "Report 20435A_20_10_2020 properly processed\n",
      "Report 17893N_16_10_2020 properly processed\n",
      "Report 65100S_16_10_2020 properly processed\n",
      "Report 70081V_15_10_2020 properly processed\n",
      "Report 60321J_14_10_2020 properly processed\n",
      "Report 20220C_13_10_2020 properly processed\n",
      "Report 20073P_13_10_2020 properly processed\n",
      "Report 62990Q_13_10_2020 properly processed\n",
      "Report 01300Q_08_10_2020 properly processed\n",
      "Report 05933G_08_10_2020 properly processed\n",
      "Report 16485Q_08_10_2020 properly processed\n",
      "Report 64760J_08_10_2020 properly processed\n",
      "Report 19985F_06_10_2020 properly processed\n",
      "Report 19507P_02_10_2020 properly processed\n",
      "Report 20422O_29_09_2020 properly processed\n",
      "Report 18062V_25_09_2020 properly processed\n",
      "Report 60030V_24_09_2020 properly processed\n",
      "Report 03917V_23_09_2020 properly processed\n",
      "Report 19435Q_26_06_2020 properly processed\n",
      "Report 12343W_24_06_2020 properly processed\n",
      "Report 17914S_23_06_2020 properly processed\n",
      "Report 19476H_23_06_2020 properly processed\n",
      "Report 19768U_23_06_2020 properly processed\n",
      "Report 19957A_23_06_2020 properly processed\n",
      "Report 60891E_23_06_2020 properly processed\n",
      "Report 64420I_23_06_2020 properly processed\n",
      "Report 91344V_23_06_2020 properly processed\n",
      "Report 17438M_12_03_2020 properly processed\n",
      "Report 64700O_12_03_2020 properly processed\n",
      "Report 60122D_11_03_2020 properly processed\n",
      "Report 81001I_10_03_2020 properly processed\n",
      "Report 62450H_04_03_2020 properly processed\n",
      "Report 18280I_26_02_2020 properly processed\n",
      "Report 70321P_26_02_2020 properly processed\n"
     ]
    },
    {
     "data": {
      "image/png": "[encoded data removed]",
      "text/plain": [
       "<Figure size 432x288 with 1 Axes>"
      ]
     },
     "metadata": {
      "needs_background": "light"
     },
     "output_type": "display_data"
    }
   ],
   "source": [
    "ConvertionCategories = {\"Properly processed\":0, \"Not in text format\":0, \"Cannot be processed\":0}\n",
    "FilesProperlyConverted = {}\n",
    "FilesNotConverted = []\n",
    "def find_2nd(string, substring):\n",
    "    return string.find(substring, string.find(substring) + 1)\n",
    "for PDF in PDFToConvert:\n",
    "    try: \n",
    "        Text = extract_text(PDF + '.pdf')\n",
    "        if len(Text)==0:\n",
    "            ConvertionCategories[\"Not in text format\"] = ConvertionCategories[\"Not in text format\"] + 1\n",
    "            print(PDF + ' is not in text format')\n",
    "        else:\n",
    "            ConvertionCategories[\"Properly processed\"] = ConvertionCategories[\"Properly processed\"] + 1\n",
    "            Option1 = Text.find('WHOLE-SCHOOL EVALUATION – MANAGEMENT, LEADERSHIP AND LEARNING   Dates of inspection')\n",
    "            if Option1 != -1:\n",
    "                Text = Text[Option1:]\n",
    "            Option2 = Text.find('WHOLE-SCHOOL EVALUATION – MANAGEMENT, LEADERSHIP AND LEARNING    Date of inspection')\n",
    "            if Option2 != -1:\n",
    "                Text = Text[Option2:]\n",
    "            Option3 = Text.find('WHOLE-SCHOOL EVALUATION – MANAGEMENT, LEADERSHIP AND LEARNING  Dates of inspection')\n",
    "            if Option3 != -1:\n",
    "                Text = Text[Option3:]\n",
    "            Option4 = Text.find('WHOLE-SCHOOL EVALUATION – MANAGEMENT, LEADERSHIP AND LEARNING Dates of inspection')\n",
    "            if Option4 != -1:\n",
    "                Text = Text[Option4:]\n",
    "            Option5 = Text.find('Whole-School Evaluation – Management, Leadership and Learning Dates of inspection')\n",
    "            if Option5 != -1:\n",
    "                Text = Text[Option5:]\n",
    "            Option6 = Text.find('Whole-School Evaluation Date of inspection')\n",
    "            if Option6 != -1:\n",
    "                Text = Text[Option6:]\n",
    "            if Text.find('An Roinn') == 1:\n",
    "                Text = Text[find_2nd(Text, 'Dates of inspection'):]\n",
    "            Option7 = Text.find('THE INSPECTORATE’S QUALITY CONTINUUM')\n",
    "            if Option7 != -1:\n",
    "                Text = Text[:Option7 - 1]\n",
    "            Option8 = Text.find('MEASTÓIREACHT SCOILE UILE – BAINISTÍOCHT, CEANNAIREACHT AGUS FOGHLAIM')\n",
    "            if Option8 != -1:\n",
    "                FilesNotConverted.append(PDF[8:])\n",
    "                print('Report ' + PDF[8:] + ' could not be processed')\n",
    "                continue\n",
    "            FilesProperlyConverted[PDF] = {'Text': Text}\n",
    "            with open(\"Reports\\\\Plain text\\\\\" + PDF[8:] + \".txt\", \"w\", errors=\"ignore\") as output:\n",
    "                output.write(str(Text))\n",
    "            print('Report ' + PDF[8:] + ' properly processed')\n",
    "    except (KeyError, UnicodeEncodeError):\n",
    "        ConvertionCategories[\"Cannot be processed\"] = ConvertionCategories[\"Cannot be processed\"] + 1\n",
    "        FilesNotConverted.append(PDF[8:])\n",
    "        print('Report ' + PDF[8:] + ' could not be processed')\n",
    "        continue\n",
    "\n",
    "df_FilesProperlyConverted = pd.DataFrame.from_dict(FilesProperlyConverted, orient='index')\n",
    "\n",
    "plt.bar(*zip(*ConvertionCategories.items()))\n",
    "#plt.show()\n",
    "\n",
    "General_InspectionReports['Key'] = General_InspectionReports['School Roll No.'] + '_' + General_InspectionReports['Date']\n",
    "General_InspectionReports.to_csv(r'Reports\\\\InspectionReports.csv', index=False)\n",
    "for p in range(len(FilesNotConverted)):\n",
    "    General_InspectionReports.drop(General_InspectionReports[General_InspectionReports.Key == FilesNotConverted[p]].index, inplace=True)\n",
    "General_InspectionReports.to_csv(r'Reports\\\\InspectionReports2.csv', index=False)"
   ]
  },
  {
   "cell_type": "markdown",
   "metadata": {
    "kernel": "Python 3"
   },
   "source": [
    "### Most used words\n"
   ]
  },
  {
   "cell_type": "code",
   "execution_count": 19,
   "metadata": {
    "kernel": "Python 3"
   },
   "outputs": [
    {
     "data": {
      "image/png": "[encoded data removed]",
      "text/plain": [
       "<Figure size 432x288 with 1 Axes>"
      ]
     },
     "metadata": {
      "needs_background": "light"
     },
     "output_type": "display_data"
    }
   ],
   "source": [
    "import matplotlib.pyplot as plt\n",
    "import nltk, re\n",
    "from nltk.corpus import stopwords\n",
    "from nltk.tokenize import sent_tokenize, word_tokenize\n",
    "from nltk.stem import WordNetLemmatizer\n",
    "from collections import Counter\n",
    "stopwords = set(nltk.corpus.stopwords.words('english'))\n",
    "\n",
    "TotalText = []\n",
    "for index, row in df_FilesProperlyConverted.iterrows():\n",
    "    text = row['Text']\n",
    "    TotalText.append(text)\n",
    "\n",
    "newStopWords = ['school','learning','student','pupil','teacher','management','teaching','support', 'lesson', 'board']\n",
    "stopwords = stopwords.union(newStopWords)\n",
    "TotalText = \" \".join(TotalText)\n",
    "tokens = [w for w in word_tokenize(TotalText.lower()) if w.isalpha()]          # isalpha() checks if each word is alphabetical, lower() transforms everything to lowercase\n",
    "no_stop = [t.strip() for t in tokens if t.strip() not in stopwords]      # stopwords already comes with a built-in list of words to remove\n",
    "wordnet_lemmatizer = WordNetLemmatizer()\n",
    "lemmatized = [wordnet_lemmatizer.lemmatize(t) for t in no_stop]\n",
    "bow = Counter(lemmatized)\n",
    "MostCommon = dict(bow.most_common(10))\n",
    "\n",
    "plt.bar(*zip(*MostCommon.items()))\n",
    "plt.title('Whole sample')\n",
    "plt.xlabel('Most common words')\n",
    "plt.ylabel('Number of times the word appears')\n",
    "plt.xticks(rotation='vertical')\n",
    "plt.savefig(\"Results\\\\Word count\\\\Whole sample.png\")\n",
    "plt.show()\n"
   ]
  },
  {
   "cell_type": "markdown",
   "metadata": {
    "kernel": "Python 3"
   },
   "source": [
    "## Topic modelling"
   ]
  },
  {
   "cell_type": "code",
   "execution_count": 20,
   "metadata": {
    "kernel": "R"
   },
   "outputs": [
    {
     "name": "stdout",
     "output_type": "stream",
     "text": [
      "package 'readtext' successfully unpacked and MD5 sums checked\n",
      "\n",
      "The downloaded binary packages are in\n",
      "\tC:\\Users\\g.vargas\\AppData\\Local\\Temp\\RtmpgrH6P4\\downloaded_packages\n",
      "package 'stm' successfully unpacked and MD5 sums checked\n",
      "\n",
      "The downloaded binary packages are in\n",
      "\tC:\\Users\\g.vargas\\AppData\\Local\\Temp\\RtmpgrH6P4\\downloaded_packages\n",
      "package 'tm' successfully unpacked and MD5 sums checked\n",
      "\n",
      "The downloaded binary packages are in\n",
      "\tC:\\Users\\g.vargas\\AppData\\Local\\Temp\\RtmpgrH6P4\\downloaded_packages\n",
      "package 'SnowballC' successfully unpacked and MD5 sums checked\n",
      "\n",
      "The downloaded binary packages are in\n",
      "\tC:\\Users\\g.vargas\\AppData\\Local\\Temp\\RtmpgrH6P4\\downloaded_packages\n",
      "package 'igraph' successfully unpacked and MD5 sums checked\n",
      "\n",
      "The downloaded binary packages are in\n",
      "\tC:\\Users\\g.vargas\\AppData\\Local\\Temp\\RtmpgrH6P4\\downloaded_packages\n"
     ]
    },
    {
     "name": "stderr",
     "output_type": "stream",
     "text": [
      "Warning message:\n",
      "\"package 'readtext' was built under R version 4.0.3\"\n",
      "Warning message:\n",
      "\"package 'stm' was built under R version 4.0.3\"\n",
      "stm v1.3.6 successfully loaded. See ?stm for help. \n",
      " Papers, resources, and other materials at structuraltopicmodel.com\n",
      "\n",
      "Warning message:\n",
      "\"package 'tm' was built under R version 4.0.3\"\n",
      "Loading required package: NLP\n",
      "\n"
     ]
    }
   ],
   "source": [
    "install.packages(\"readtext\")\n",
    "install.packages(\"stm\")\n",
    "install.packages(\"tm\")\n",
    "install.packages(\"SnowballC\")\n",
    "install.packages(\"igraph\")\n",
    "\n",
    "library(readtext)\n",
    "library(stm)\n",
    "library(tm)"
   ]
  },
  {
   "cell_type": "code",
   "execution_count": 21,
   "metadata": {
    "kernel": "R"
   },
   "outputs": [],
   "source": [
    "setwd(\"C:\\\\Users\\\\g.vargas\\\\BOX\\\\IIEP_MyProjects\\\\MP_01000298\\\\WorkFiles_Inspection\\\\Ireland\")\n",
    "DATA_DIR <- system.file(\"extdata/\", package = \"readtext\")\n",
    "ourdata<-readtext(\"Reports\\\\Plain text\\\\*\")\n",
    "# Import additional metadata (year, language, etc.)\n",
    "metadata <-read.csv(\"Reports\\\\InspectionReports.csv\")"
   ]
  },
  {
   "cell_type": "markdown",
   "metadata": {
    "kernel": "R"
   },
   "source": []
  },
  {
   "cell_type": "code",
   "execution_count": 39,
   "metadata": {
    "kernel": "R"
   },
   "outputs": [
    {
     "name": "stdout",
     "output_type": "stream",
     "text": [
      "Building corpus... \n",
      "Converting to Lower Case... \n",
      "Removing punctuation... \n",
      "Removing stopwords... \n",
      "Removing numbers... \n",
      "Stemming... \n",
      "Creating Output... \n",
      "Removing 1399 of 3505 terms (1399 of 30449 tokens) due to frequency \n",
      "Your corpus now has 59 documents, 2106 terms and 29050 tokens."
     ]
    }
   ],
   "source": [
    "# Stemming and tokenization\n",
    "NewStopWords <- c('school','learning','student','pupil', 'pupils','teacher','management','teaching','support', 'lesson', 'board')\n",
    "processed_data <- textProcessor(ourdata$text,  customstopwords=NewStopWords)\n",
    "\n",
    "# Prepare Documents For Analysis With Stm\n",
    "prepared_data <- prepDocuments(processed_data$documents, processed_data$vocab, processed_data$meta)\n",
    "# Once the prepared_data is ready, open it, see where the metadata is located, and add the information from the ourmetadata"
   ]
  },
  {
   "cell_type": "code",
   "execution_count": 25,
   "metadata": {
    "kernel": "R"
   },
   "outputs": [
    {
     "name": "stdout",
     "output_type": "stream",
     "text": [
      "Beginning Spectral Initialization \n",
      "\t Calculating the gram matrix...\n",
      "\t Finding anchor words...\n",
      " \t...\n",
      "\t Recovering initialization...\n",
      " \t....................\n",
      "Initialization complete.\n",
      "...........................................................\n",
      "Completed E-Step (0 seconds). \n",
      "Completed M-Step. \n",
      "Completing Iteration 1 (approx. per word bound = -6.236) \n",
      "...........................................................\n",
      "Completed E-Step (0 seconds). \n",
      "Completed M-Step. \n",
      "Completing Iteration 2 (approx. per word bound = -6.201, relative change = 5.617e-03) \n",
      "...........................................................\n",
      "Completed E-Step (0 seconds). \n",
      "Completed M-Step. \n",
      "Completing Iteration 3 (approx. per word bound = -6.198, relative change = 4.295e-04) \n",
      "...........................................................\n",
      "Completed E-Step (0 seconds). \n",
      "Completed M-Step. \n",
      "Completing Iteration 4 (approx. per word bound = -6.198, relative change = 5.402e-05) \n",
      "...........................................................\n",
      "Completed E-Step (0 seconds). \n",
      "Completed M-Step. \n",
      "Completing Iteration 5 (approx. per word bound = -6.198, relative change = 2.381e-05) \n",
      "Topic 1: pupil, pupils’, qualiti, teacher, good \n",
      " Topic 2: student, good, develop, improv, area \n",
      " Topic 3: good, pupil, qualiti, pupils’, need \n",
      "...........................................................\n",
      "Completed E-Step (0 seconds). \n",
      "Completed M-Step. \n",
      "Completing Iteration 6 (approx. per word bound = -6.198, relative change = 1.470e-05) \n",
      "...........................................................\n",
      "Completed E-Step (0 seconds). \n",
      "Completed M-Step. \n",
      "Completing Iteration 7 (approx. per word bound = -6.198, relative change = 1.060e-05) \n",
      "...........................................................\n",
      "Completed E-Step (0 seconds). \n",
      "Completed M-Step. \n",
      "Model Converged \n"
     ]
    }
   ],
   "source": [
    "# STM MODELING\n",
    "# The number of topics can be automatically determined using searchK (see https://cbail.github.io/SICSS_Topic_Modeling.html)\n",
    "# max.em.its is how many times the model should run\n",
    "poliblogPrevFit <- stm(prepared_data$documents, prepared_data$vocab, K=3, max.em.its=30, \n",
    "                       data=prepared_data$meta, init.type=\"Spectral\")"
   ]
  },
  {
   "cell_type": "code",
   "execution_count": 27,
   "metadata": {
    "kernel": "R"
   },
   "outputs": [
    {
     "data": {
      "text/html": [
       "<strong>png:</strong> 2"
      ],
      "text/latex": [
       "\\textbf{png:} 2"
      ],
      "text/markdown": [
       "**png:** 2"
      ],
      "text/plain": [
       "png \n",
       "  2 "
      ]
     },
     "metadata": {},
     "output_type": "display_data"
    }
   ],
   "source": [
    "png(filename=\"Results\\\\Topic modelling\\\\Two topics word comparison.png\", \n",
    "    type=\"cairo\",\n",
    "    units=\"in\", \n",
    "    width=10, \n",
    "    height=8, \n",
    "    pointsize=12, \n",
    "    res=300)\n",
    "plot(poliblogPrevFit, type=\"perspectives\", topics=c(1,2))\n",
    "dev.off()"
   ]
  },
  {
   "cell_type": "code",
   "execution_count": 28,
   "metadata": {
    "kernel": "R"
   },
   "outputs": [
    {
     "data": {
      "text/html": [
       "<strong>png:</strong> 2"
      ],
      "text/latex": [
       "\\textbf{png:} 2"
      ],
      "text/markdown": [
       "**png:** 2"
      ],
      "text/plain": [
       "png \n",
       "  2 "
      ]
     },
     "metadata": {},
     "output_type": "display_data"
    }
   ],
   "source": [
    "png(filename=\"Results\\\\Topic modelling\\\\Topic prevalence.png\", \n",
    "    type=\"cairo\",\n",
    "    units=\"in\", \n",
    "    width=10, \n",
    "    height=8, \n",
    "    pointsize=12, \n",
    "    res=300)\n",
    "plot(poliblogPrevFit, type=\"summary\", xlim=c(0,.8))\n",
    "dev.off()"
   ]
  },
  {
   "cell_type": "code",
   "execution_count": 29,
   "metadata": {
    "kernel": "R"
   },
   "outputs": [
    {
     "data": {
      "text/html": [
       "<strong>png:</strong> 2"
      ],
      "text/latex": [
       "\\textbf{png:} 2"
      ],
      "text/markdown": [
       "**png:** 2"
      ],
      "text/plain": [
       "png \n",
       "  2 "
      ]
     },
     "metadata": {},
     "output_type": "display_data"
    }
   ],
   "source": [
    "png(filename=\"Results\\\\Topic modelling\\\\Words from selected topics.png\", \n",
    "    type=\"cairo\",\n",
    "    units=\"in\", \n",
    "    width=10, \n",
    "    height=8, \n",
    "    pointsize=12, \n",
    "    res=300)\n",
    "plot(poliblogPrevFit, type=\"labels\", topics=c(1,2,3))\n",
    "dev.off()"
   ]
  },
  {
   "cell_type": "code",
   "execution_count": 30,
   "metadata": {
    "kernel": "R"
   },
   "outputs": [
    {
     "data": {
      "text/html": [
       "<strong>png:</strong> 2"
      ],
      "text/latex": [
       "\\textbf{png:} 2"
      ],
      "text/markdown": [
       "**png:** 2"
      ],
      "text/plain": [
       "png \n",
       "  2 "
      ]
     },
     "metadata": {},
     "output_type": "display_data"
    }
   ],
   "source": [
    "png(filename=\"Results\\\\Topic modelling\\\\Distribution Document Topic Proportions.png\", \n",
    "    type=\"cairo\",\n",
    "    units=\"in\", \n",
    "    width=10, \n",
    "    height=8, \n",
    "    pointsize=12, \n",
    "    res=300)\n",
    "plot(poliblogPrevFit, type=\"hist\")\n",
    "dev.off()"
   ]
  },
  {
   "cell_type": "code",
   "execution_count": 31,
   "metadata": {
    "kernel": "R"
   },
   "outputs": [
    {
     "data": {
      "image/png": "[encoded data removed]",
      "text/plain": [
       "Plot with title \"\""
      ]
     },
     "metadata": {
      "image/png": {
       "height": 420,
       "width": 420
      }
     },
     "output_type": "display_data"
    }
   ],
   "source": [
    "topic_correlation <- topicCorr(poliblogPrevFit, method = c(\"simple\", \"huge\"), cutoff = 0.01,\n",
    "                               verbose = TRUE)\n",
    "\n",
    "plot(topic_correlation, topics = NULL, vlabels = NULL, layout = NULL,\n",
    "     vertex.color = \"green\", vertex.label.cex = 0.75,\n",
    "     vertex.label.color = \"black\")"
   ]
  }
 ],
 "metadata": {
  "kernelspec": {
   "display_name": "SoS",
   "language": "sos",
   "name": "sos"
  },
  "language_info": {
   "codemirror_mode": "sos",
   "file_extension": ".sos",
   "mimetype": "text/x-sos",
   "name": "sos",
   "nbconvert_exporter": "sos_notebook.converter.SoS_Exporter",
   "pygments_lexer": "sos"
  },
  "sos": {
   "kernels": [
    [
     "Python 3",
     "python3",
     "python3",
     "",
     ""
    ],
    [
     "R",
     "ir",
     "R",
     "#DCDCDA",
     ""
    ]
   ],
   "panel": {
    "displayed": true,
    "height": 0
   },
   "version": "0.21.20"
  }
 },
 "nbformat": 4,
 "nbformat_minor": 4
}
